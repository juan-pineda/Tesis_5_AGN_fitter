{
 "cells": [
  {
   "cell_type": "code",
   "execution_count": null,
   "metadata": {},
   "outputs": [],
   "source": [
    "import sys,os\n",
    "import matplotlib.pyplot as plt\n",
    "import numpy as np\n",
    "import pandas as pd\n",
    "from astropy import units as u\n",
    "import astropy.constants as const\n",
    "import scipy\n",
    "from matplotlib import gridspec\n",
    "from astropy.io import fits\n",
    "import pickle\n",
    "from pickle import *\n",
    "import time\n",
    "import math\n",
    "import re"
   ]
  },
  {
   "cell_type": "code",
   "execution_count": null,
   "metadata": {},
   "outputs": [],
   "source": [
    "column_names = [\"wavelength\", 'SED', 'tv-values', 'p-values', 'q-values', 'oa-values', 'r-values', 'mcl-values', 'incl-values', 'Dm-values']  #To create the columns of the dataframe\n",
    "SKIRTOR = pd.DataFrame(columns = column_names)\n",
    "DustM = pd.read_csv(\"Models/SKIRTOR/total_dust_mass_2016-7-18.txt\", sep = '    ', decimal=\".\", names= ['model', 'Mass'], skiprows = 2, engine = 'python')\n",
    "j = 0\n",
    "\n",
    "for i in os.listdir(\"Models/SKIRTOR/skirtor_2016-7-18\"):\n",
    "    data = pd.read_csv(\"Models/SKIRTOR/skirtor_2016-7-18/\" + i, delim_whitespace=True, decimal=\".\", names= ['wl', 'TwlFwl', 'DSwlFwl', 'SSwlFwl', 'TDwlFwl', 'SDwlFwl', 'TrwlFwl'], skiprows = 7)\n",
    "    \n",
    "    c = 2.997e8\n",
    "    log_nu = np.log10(c/(data.iloc[:, 0]*1e-6))\n",
    "    log_nu = log_nu[::-1]\n",
    "\n",
    "    d = 3.086*1e25 # 10 Mpc\n",
    "    F_l = data.iloc[:, 4]/(data.iloc[:, 0]*4*np.pi*d**2)\n",
    "    F_nu = F_l[::-1]\n",
    "    \n",
    "    sep = [m.start() for m in re.finditer('_', i)]\n",
    "    tv = float(i[i.find('t')+1: sep[0]])\n",
    "    p = float(i[i.find('p')+1: sep[1]])\n",
    "    q = float(i[i.find('q')+1: sep[2]])\n",
    "    oa = float(i[i.find('oa')+2: sep[3]])\n",
    "    r = float(i[i.find('R')+1: sep[4]])\n",
    "    mcl = float(i[i.find('Mcl')+3: sep[5]])\n",
    "    incl = float(i[i.find('i')+1: sep[6]])\n",
    "    Md = float(DustM[DustM['model'] == i[: sep[5]]]['Mass'].values.item()[:-5])\n",
    "    \n",
    "    New_row = {'SED': F_nu, 'wavelength': log_nu, 'tv-values': tv, 'p-values': p, 'q-values': q, 'oa-values': oa, 'r-values': r, 'mcl-values': mcl, 'incl-values': incl, 'Dm-values': Md} \n",
    "    SKIRTOR = SKIRTOR.append(New_row, ignore_index = True) \n",
    "    j =+ 1\n",
    "    if j == 3840:\n",
    "        print('20$\\%$ of the finished process...')\n",
    "    elif j == 7680:\n",
    "        print('40$\\%$ of the finished process...')\n",
    "    elif j == 11520:\n",
    "        print('60$\\%$ of the finished process...')\n",
    "    elif j == 15360:\n",
    "        print('80$\\%$ of the finished process...')\n",
    "    elif j == 19199:\n",
    "        print('Completed process.')"
   ]
  },
  {
   "cell_type": "code",
   "execution_count": null,
   "metadata": {},
   "outputs": [],
   "source": [
    "f2 = open('Models/SKIRTOR.pickle', 'wb')\n",
    "pickle.dump(SKIRTOR, f2, protocol=2)\n",
    "f2.close()"
   ]
  }
 ],
 "metadata": {
  "kernelspec": {
   "display_name": "Python 3",
   "language": "python",
   "name": "python3"
  },
  "language_info": {
   "codemirror_mode": {
    "name": "ipython",
    "version": 3
   },
   "file_extension": ".py",
   "mimetype": "text/x-python",
   "name": "python",
   "nbconvert_exporter": "python",
   "pygments_lexer": "ipython3",
   "version": "3.7.4"
  }
 },
 "nbformat": 4,
 "nbformat_minor": 2
}
